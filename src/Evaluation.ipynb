{
 "cells": [
  {
   "cell_type": "markdown",
   "id": "88f4da34",
   "metadata": {},
   "source": [
    "# <center>Data 1030 - Final Project</center>"
   ]
  },
  {
   "cell_type": "markdown",
   "id": "4f3a496c",
   "metadata": {},
   "source": [
    "### Data 1030 Environment"
   ]
  },
  {
   "cell_type": "code",
   "execution_count": 1,
   "id": "f9ae0599",
   "metadata": {},
   "outputs": [
    {
     "name": "stdout",
     "output_type": "stream",
     "text": [
      "\u001b[42m[ OK ]\u001b[0m Python version is 3.9.7 | packaged by conda-forge | (default, Sep  2 2021, 17:58:46) \n",
      "[Clang 11.1.0 ]\n",
      "\n",
      "\u001b[42m[ OK ]\u001b[0m numpy version 1.21.1 is installed.\n",
      "\u001b[42m[ OK ]\u001b[0m matplotlib version 3.4.2 is installed.\n",
      "\u001b[42m[ OK ]\u001b[0m sklearn version 0.24.2 is installed.\n",
      "\u001b[42m[ OK ]\u001b[0m pandas version 1.3.1 is installed.\n",
      "\u001b[42m[ OK ]\u001b[0m xgboost version 1.3.3 is installed.\n",
      "\u001b[42m[ OK ]\u001b[0m shap version 0.39.0 is installed.\n"
     ]
    }
   ],
   "source": [
    "from __future__ import print_function\n",
    "from distutils.version import LooseVersion as Version\n",
    "import sys\n",
    "\n",
    "OK = '\\x1b[42m[ OK ]\\x1b[0m'\n",
    "FAIL = \"\\x1b[41m[FAIL]\\x1b[0m\"\n",
    "\n",
    "try:\n",
    "    import importlib\n",
    "except ImportError:\n",
    "    print(FAIL, \"Python version 3.9 is required,\"\n",
    "                \" but %s is installed.\" % sys.version)\n",
    "\n",
    "def import_version(pkg, min_ver, fail_msg=\"\"):\n",
    "    mod = None\n",
    "    try:\n",
    "        mod = importlib.import_module(pkg)\n",
    "        if pkg in {'PIL'}:\n",
    "            ver = mod.VERSION\n",
    "        else:\n",
    "            ver = mod.__version__\n",
    "        if Version(ver) == min_ver:\n",
    "            print(OK, \"%s version %s is installed.\"\n",
    "                  % (lib, min_ver))\n",
    "        else:\n",
    "            print(FAIL, \"%s version %s is required, but %s installed.\"\n",
    "                  % (lib, min_ver, ver))    \n",
    "    except ImportError:\n",
    "        print(FAIL, '%s not installed. %s' % (pkg, fail_msg))\n",
    "    return mod\n",
    "\n",
    "\n",
    "# first check the python version\n",
    "pyversion = Version(sys.version)\n",
    "if pyversion >= \"3.9\":\n",
    "    print(OK, \"Python version is %s\" % sys.version)\n",
    "elif pyversion < \"3.9\":\n",
    "    print(FAIL, \"Python version 3.9 is required,\"\n",
    "                \" but %s is installed.\" % sys.version)\n",
    "else:\n",
    "    print(FAIL, \"Unknown Python version: %s\" % sys.version)\n",
    "\n",
    "    \n",
    "print()\n",
    "requirements = {'numpy': \"1.21.1\", 'matplotlib': \"3.4.2\",'sklearn': \"0.24.2\", \n",
    "                'pandas': \"1.3.1\",'xgboost': \"1.3.3\", 'shap': \"0.39.0\"}\n",
    "\n",
    "# now the dependencies\n",
    "for lib, required_version in list(requirements.items()):\n",
    "    import_version(lib, required_version)"
   ]
  },
  {
   "cell_type": "markdown",
   "id": "c32f19cc",
   "metadata": {},
   "source": [
    "### Evaluation\n",
    "\n",
    "Compare the XGBoost models with the baseline."
   ]
  },
  {
   "cell_type": "code",
   "execution_count": 2,
   "id": "64f21118",
   "metadata": {},
   "outputs": [],
   "source": [
    "import pickle\n",
    "import matplotlib.pyplot as plt\n",
    "import numpy as np\n",
    "from sklearn.metrics import accuracy_score\n",
    "\n",
    "file = open('../results/xgb_models.save', 'rb')\n",
    "xgb_models = pickle.load(file)\n",
    "file.close()\n",
    "\n",
    "file = open('../data/data_preprocessed.save', 'rb')\n",
    "other_sets, test_sets = pickle.load(file)\n",
    "file.close()"
   ]
  },
  {
   "cell_type": "code",
   "execution_count": 3,
   "id": "b6217bea",
   "metadata": {},
   "outputs": [],
   "source": [
    "y_tests = []\n",
    "y_tests_pred = []\n",
    "y_baselines_pred = []\n",
    "\n",
    "\n",
    "for i in range(len(test_sets)):\n",
    "    X_test, y_test = test_sets[i]\n",
    "    X_train, y_train = other_sets[i]\n",
    "    xgb_model = xgb_models[i][1]\n",
    "    xgb_model.fit(X_train, y_train)\n",
    "    y_test_pred = xgb_model.predict(X_test)\n",
    "    y_baseline_pred = np.repeat(max(set(y_train), key = list(y_train).count), len(y_test))\n",
    "    \n",
    "    y_tests.append(y_test)\n",
    "    y_tests_pred.append(y_test_pred)\n",
    "    y_baselines_pred.append(y_baseline_pred)"
   ]
  },
  {
   "cell_type": "code",
   "execution_count": 4,
   "id": "a9d9f75b",
   "metadata": {},
   "outputs": [
    {
     "name": "stdout",
     "output_type": "stream",
     "text": [
      "baseline accuracy score: 0.7422448979591836 +/- 0.01581599736326332\n",
      "xgboost accuracy score: 0.8462244897959182 +/- 0.009809195933645088\n"
     ]
    }
   ],
   "source": [
    "baseline_acc = [accuracy_score(y_tests[i], y_baselines_pred[i]) for i in range(len(y_baselines_pred))]\n",
    "accuracy_scores = [accuracy_score(y_tests[i], y_tests_pred[i]) for i in range(len(y_tests))]\n",
    "\n",
    "print('baseline accuracy score:', np.mean(baseline_acc), '+/-', np.std(baseline_acc))\n",
    "print('xgboost accuracy score:', np.mean(accuracy_scores), '+/-', np.std(accuracy_scores))"
   ]
  },
  {
   "cell_type": "markdown",
   "id": "3481b4ad",
   "metadata": {},
   "source": [
    "We collect all the predictions for the 10 XGBoost models to get the confusion matrix."
   ]
  },
  {
   "cell_type": "code",
   "execution_count": 5,
   "id": "4cb8678b",
   "metadata": {},
   "outputs": [],
   "source": [
    "y_tests_comb = []\n",
    "y_tests_pred_comb = []\n",
    "for i in range(len(y_tests)):\n",
    "    y_tests_comb.extend(y_tests[i])\n",
    "    y_tests_pred_comb.extend(y_tests_pred[i])"
   ]
  },
  {
   "cell_type": "code",
   "execution_count": 6,
   "id": "3c2e0b4b",
   "metadata": {},
   "outputs": [],
   "source": [
    "from sklearn.metrics import confusion_matrix\n",
    "from sklearn.utils.multiclass import unique_labels\n",
    "\n",
    "def plot_confusion_matrix(y_true, y_pred, classes,\n",
    "                          normalize=False,\n",
    "                          title=None,\n",
    "                          cmap=plt.cm.Blues):\n",
    "    \"\"\"\n",
    "    This function prints and plots the confusion matrix.\n",
    "    Normalization can be applied by setting `normalize=True`.\n",
    "    \"\"\"\n",
    "    if not title:\n",
    "        if normalize:\n",
    "            title = 'Normalized confusion matrix'\n",
    "        else:\n",
    "            title = 'Confusion matrix, without normalization'\n",
    "\n",
    "    # Compute confusion matrix\n",
    "    cm = confusion_matrix(y_true, y_pred)\n",
    "    # Only use the labels that appear in the data\n",
    "    classes = np.array(classes)\n",
    "    classes = classes[unique_labels(y_true, y_pred)]\n",
    "    if normalize:\n",
    "        cm = cm.astype('float') / cm.sum(axis=1)[:, np.newaxis]\n",
    "        \n",
    "    fig, ax = plt.subplots()\n",
    "    im = ax.imshow(cm, interpolation='nearest', cmap=cmap)\n",
    "    ax.figure.colorbar(im, ax=ax)\n",
    "    # We want to show all ticks...\n",
    "    ax.set(xticks=np.arange(cm.shape[1]),\n",
    "           yticks=np.arange(cm.shape[0]),\n",
    "           # ... and label them with the respective list entries\n",
    "           xticklabels=classes, yticklabels=classes,\n",
    "           title=title,\n",
    "           ylabel='True label',\n",
    "           xlabel='Predicted label')\n",
    "\n",
    "    # Rotate the tick labels and set their alignment.\n",
    "    plt.setp(ax.get_xticklabels(), rotation=45, ha=\"right\",\n",
    "             rotation_mode=\"anchor\")\n",
    "\n",
    "    # Loop over data dimensions and create text annotations.\n",
    "    fmt = '.2f' if normalize else 'd'\n",
    "    thresh = cm.max() / 2.\n",
    "    for i in range(cm.shape[0]):\n",
    "        for j in range(cm.shape[1]):\n",
    "            ax.text(j, i, format(cm[i, j], fmt),\n",
    "                    ha=\"center\", va=\"center\",\n",
    "                    color=\"white\" if cm[i, j] > thresh else \"black\")\n",
    "    fig.tight_layout()\n",
    "    return ax"
   ]
  },
  {
   "cell_type": "code",
   "execution_count": 7,
   "id": "5a067817",
   "metadata": {},
   "outputs": [
    {
     "data": {
      "image/png": "[encoded data removed]",
      "text/plain": [
       "<Figure size 432x288 with 2 Axes>"
      ]
     },
     "metadata": {
      "needs_background": "light"
     },
     "output_type": "display_data"
    }
   ],
   "source": [
    "# Use combined y_test_pred\n",
    "plot_confusion_matrix(y_tests_comb, y_tests_pred_comb, classes = ['low', 'medium', 'high'], normalize=True)\n",
    "plt.savefig('../figures/confusion_matrix_combined.jpg', dpi=300)\n",
    "plt.show()"
   ]
  },
  {
   "cell_type": "code",
   "execution_count": 8,
   "id": "11ed813a",
   "metadata": {},
   "outputs": [
    {
     "data": {
      "image/png": "[encoded data removed]",
      "text/plain": [
       "<Figure size 432x288 with 2 Axes>"
      ]
     },
     "metadata": {
      "needs_background": "light"
     },
     "output_type": "display_data"
    }
   ],
   "source": [
    "# Choose the best performance model (the last one) to do the confusion matrix\n",
    "plot_confusion_matrix(y_tests[-1], y_tests_pred[-1], classes = ['low', 'medium', 'high'], normalize=True)\n",
    "plt.savefig('../figures/confusion_matrix_best.jpg', dpi=300)\n",
    "plt.show()"
   ]
  },
  {
   "cell_type": "code",
   "execution_count": 9,
   "id": "ec8e54ec",
   "metadata": {},
   "outputs": [
    {
     "data": {
      "text/plain": [
       "Pipeline(steps=[('columntransformer',\n",
       "                 ColumnTransformer(transformers=[('std', StandardScaler(),\n",
       "                                                  ['fixed acidity',\n",
       "                                                   'volatile acidity',\n",
       "                                                   'citric acid',\n",
       "                                                   'residual sugar',\n",
       "                                                   'chlorides',\n",
       "                                                   'free sulfur dioxide',\n",
       "                                                   'total sulfur dioxide',\n",
       "                                                   'density', 'pH', 'sulphates',\n",
       "                                                   'alcohol'])])),\n",
       "                ('xgbclassifier',\n",
       "                 XGBClassifier(base_score=0.5, booster='gbtree',\n",
       "                               colsample_bylevel=1, colsample_bynode...\n",
       "                               learning_rate=0.300000012, max_delta_step=0,\n",
       "                               max_depth=6, min_child_weight=3, missing=nan,\n",
       "                               monotone_constraints='()', n_estimators=100,\n",
       "                               n_jobs=8, num_parallel_tree=1,\n",
       "                               objective='multi:softprob', random_state=0,\n",
       "                               reg_alpha=0, reg_lambda=1, scale_pos_weight=None,\n",
       "                               seed=0, subsample=0.66, tree_method='exact',\n",
       "                               use_label_encoder=False, validate_parameters=1,\n",
       "                               verbosity=None))])"
      ]
     },
     "execution_count": 9,
     "metadata": {},
     "output_type": "execute_result"
    }
   ],
   "source": [
    "xgb_models[-1]"
   ]
  }
 ],
 "metadata": {
  "kernelspec": {
   "display_name": "Python 3 (ipykernel)",
   "language": "python",
   "name": "python3"
  },
  "language_info": {
   "codemirror_mode": {
    "name": "ipython",
    "version": 3
   },
   "file_extension": ".py",
   "mimetype": "text/x-python",
   "name": "python",
   "nbconvert_exporter": "python",
   "pygments_lexer": "ipython3",
   "version": "3.9.7"
  }
 },
 "nbformat": 4,
 "nbformat_minor": 5
}
